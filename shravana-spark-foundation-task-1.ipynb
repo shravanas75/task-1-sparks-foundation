{
 "cells": [
  {
   "cell_type": "markdown",
   "id": "15a6de8f",
   "metadata": {
    "papermill": {
     "duration": 0.007954,
     "end_time": "2022-07-19T05:42:01.546147",
     "exception": false,
     "start_time": "2022-07-19T05:42:01.538193",
     "status": "completed"
    },
    "tags": []
   },
   "source": [
    "# **Task 1: Prediction using Supervised ML**\n",
    "\n",
    "**GRIP @ The Sparks Foundation**\n",
    "\n",
    "### **Author:** Shravana Sabhapandit\n",
    "### Data Science & Business Analytics Intern\n",
    "**October 2022**"
   ]
  },
  {
   "cell_type": "markdown",
   "id": "76bb9f1d",
   "metadata": {
    "papermill": {
     "duration": 0.005539,
     "end_time": "2022-07-19T05:42:01.583087",
     "exception": false,
     "start_time": "2022-07-19T05:42:01.577548",
     "status": "completed"
    },
    "tags": []
   },
   "source": [
    "# **PREDICTION USING SUPERVISED ML**"
   ]
  },
  {
   "cell_type": "markdown",
   "id": "9bff925e",
   "metadata": {
    "papermill": {
     "duration": 0.005754,
     "end_time": "2022-07-19T05:42:01.594762",
     "exception": false,
     "start_time": "2022-07-19T05:42:01.589008",
     "status": "completed"
    },
    "tags": []
   },
   "source": [
    "**Importing Libraries**"
   ]
  },
  {
   "cell_type": "code",
   "execution_count": 1,
   "id": "e5de7e05",
   "metadata": {
    "execution": {
     "iopub.execute_input": "2022-07-19T05:42:01.609184Z",
     "iopub.status.busy": "2022-07-19T05:42:01.608528Z",
     "iopub.status.idle": "2022-07-19T05:42:02.930620Z",
     "shell.execute_reply": "2022-07-19T05:42:02.929052Z"
    },
    "papermill": {
     "duration": 1.333181,
     "end_time": "2022-07-19T05:42:02.933959",
     "exception": false,
     "start_time": "2022-07-19T05:42:01.600778",
     "status": "completed"
    },
    "tags": []
   },
   "outputs": [],
   "source": [
    "import numpy as np\n",
    "import pandas as pd\n",
    "from matplotlib import pyplot as plt\n",
    "from sklearn import linear_model\n",
    "from sklearn.metrics import r2_score, mean_squared_error, mean_absolute_error"
   ]
  },
  {
   "cell_type": "markdown",
   "id": "2d9fa9b6",
   "metadata": {
    "papermill": {
     "duration": 0.005777,
     "end_time": "2022-07-19T05:42:02.946051",
     "exception": false,
     "start_time": "2022-07-19T05:42:02.940274",
     "status": "completed"
    },
    "tags": []
   },
   "source": [
    "**Importing DataSet**"
   ]
  },
  {
   "cell_type": "code",
   "execution_count": 3,
   "id": "503b7b67",
   "metadata": {
    "execution": {
     "iopub.execute_input": "2022-07-19T05:42:02.960411Z",
     "iopub.status.busy": "2022-07-19T05:42:02.959897Z",
     "iopub.status.idle": "2022-07-19T05:42:02.998242Z",
     "shell.execute_reply": "2022-07-19T05:42:02.996797Z"
    },
    "papermill": {
     "duration": 0.049348,
     "end_time": "2022-07-19T05:42:03.001554",
     "exception": false,
     "start_time": "2022-07-19T05:42:02.952206",
     "status": "completed"
    },
    "tags": []
   },
   "outputs": [
    {
     "name": "stdout",
     "output_type": "stream",
     "text": [
      "First Five Rows....\n"
     ]
    },
    {
     "data": {
      "text/html": [
       "<div>\n",
       "<style scoped>\n",
       "    .dataframe tbody tr th:only-of-type {\n",
       "        vertical-align: middle;\n",
       "    }\n",
       "\n",
       "    .dataframe tbody tr th {\n",
       "        vertical-align: top;\n",
       "    }\n",
       "\n",
       "    .dataframe thead th {\n",
       "        text-align: right;\n",
       "    }\n",
       "</style>\n",
       "<table border=\"1\" class=\"dataframe\">\n",
       "  <thead>\n",
       "    <tr style=\"text-align: right;\">\n",
       "      <th></th>\n",
       "      <th>Hours</th>\n",
       "      <th>Scores</th>\n",
       "    </tr>\n",
       "  </thead>\n",
       "  <tbody>\n",
       "    <tr>\n",
       "      <th>0</th>\n",
       "      <td>2.5</td>\n",
       "      <td>21</td>\n",
       "    </tr>\n",
       "    <tr>\n",
       "      <th>1</th>\n",
       "      <td>5.1</td>\n",
       "      <td>47</td>\n",
       "    </tr>\n",
       "    <tr>\n",
       "      <th>2</th>\n",
       "      <td>3.2</td>\n",
       "      <td>27</td>\n",
       "    </tr>\n",
       "    <tr>\n",
       "      <th>3</th>\n",
       "      <td>8.5</td>\n",
       "      <td>75</td>\n",
       "    </tr>\n",
       "    <tr>\n",
       "      <th>4</th>\n",
       "      <td>3.5</td>\n",
       "      <td>30</td>\n",
       "    </tr>\n",
       "  </tbody>\n",
       "</table>\n",
       "</div>"
      ],
      "text/plain": [
       "   Hours  Scores\n",
       "0    2.5      21\n",
       "1    5.1      47\n",
       "2    3.2      27\n",
       "3    8.5      75\n",
       "4    3.5      30"
      ]
     },
     "execution_count": 3,
     "metadata": {},
     "output_type": "execute_result"
    }
   ],
   "source": [
    "df=pd.read_csv('student_scores.csv')\n",
    "print('First Five Rows....')\n",
    "df.head(5)"
   ]
  },
  {
   "cell_type": "code",
   "execution_count": 4,
   "id": "984a21f4",
   "metadata": {
    "execution": {
     "iopub.execute_input": "2022-07-19T05:42:03.017885Z",
     "iopub.status.busy": "2022-07-19T05:42:03.017468Z",
     "iopub.status.idle": "2022-07-19T05:42:03.047736Z",
     "shell.execute_reply": "2022-07-19T05:42:03.046879Z"
    },
    "papermill": {
     "duration": 0.041609,
     "end_time": "2022-07-19T05:42:03.049903",
     "exception": false,
     "start_time": "2022-07-19T05:42:03.008294",
     "status": "completed"
    },
    "tags": []
   },
   "outputs": [
    {
     "data": {
      "text/html": [
       "<div>\n",
       "<style scoped>\n",
       "    .dataframe tbody tr th:only-of-type {\n",
       "        vertical-align: middle;\n",
       "    }\n",
       "\n",
       "    .dataframe tbody tr th {\n",
       "        vertical-align: top;\n",
       "    }\n",
       "\n",
       "    .dataframe thead th {\n",
       "        text-align: right;\n",
       "    }\n",
       "</style>\n",
       "<table border=\"1\" class=\"dataframe\">\n",
       "  <thead>\n",
       "    <tr style=\"text-align: right;\">\n",
       "      <th></th>\n",
       "      <th>Hours</th>\n",
       "      <th>Scores</th>\n",
       "    </tr>\n",
       "  </thead>\n",
       "  <tbody>\n",
       "    <tr>\n",
       "      <th>count</th>\n",
       "      <td>25.000000</td>\n",
       "      <td>25.000000</td>\n",
       "    </tr>\n",
       "    <tr>\n",
       "      <th>mean</th>\n",
       "      <td>5.012000</td>\n",
       "      <td>51.480000</td>\n",
       "    </tr>\n",
       "    <tr>\n",
       "      <th>std</th>\n",
       "      <td>2.525094</td>\n",
       "      <td>25.286887</td>\n",
       "    </tr>\n",
       "    <tr>\n",
       "      <th>min</th>\n",
       "      <td>1.100000</td>\n",
       "      <td>17.000000</td>\n",
       "    </tr>\n",
       "    <tr>\n",
       "      <th>25%</th>\n",
       "      <td>2.700000</td>\n",
       "      <td>30.000000</td>\n",
       "    </tr>\n",
       "    <tr>\n",
       "      <th>50%</th>\n",
       "      <td>4.800000</td>\n",
       "      <td>47.000000</td>\n",
       "    </tr>\n",
       "    <tr>\n",
       "      <th>75%</th>\n",
       "      <td>7.400000</td>\n",
       "      <td>75.000000</td>\n",
       "    </tr>\n",
       "    <tr>\n",
       "      <th>max</th>\n",
       "      <td>9.200000</td>\n",
       "      <td>95.000000</td>\n",
       "    </tr>\n",
       "  </tbody>\n",
       "</table>\n",
       "</div>"
      ],
      "text/plain": [
       "           Hours     Scores\n",
       "count  25.000000  25.000000\n",
       "mean    5.012000  51.480000\n",
       "std     2.525094  25.286887\n",
       "min     1.100000  17.000000\n",
       "25%     2.700000  30.000000\n",
       "50%     4.800000  47.000000\n",
       "75%     7.400000  75.000000\n",
       "max     9.200000  95.000000"
      ]
     },
     "execution_count": 4,
     "metadata": {},
     "output_type": "execute_result"
    }
   ],
   "source": [
    "df.describe()"
   ]
  },
  {
   "cell_type": "markdown",
   "id": "c66c4465",
   "metadata": {
    "papermill": {
     "duration": 0.006158,
     "end_time": "2022-07-19T05:42:03.062523",
     "exception": false,
     "start_time": "2022-07-19T05:42:03.056365",
     "status": "completed"
    },
    "tags": []
   },
   "source": [
    "**EDA TO GAIN INSIGHTSFROM THE DATA**"
   ]
  },
  {
   "cell_type": "code",
   "execution_count": 5,
   "id": "174c41df",
   "metadata": {
    "execution": {
     "iopub.execute_input": "2022-07-19T05:42:03.077139Z",
     "iopub.status.busy": "2022-07-19T05:42:03.076280Z",
     "iopub.status.idle": "2022-07-19T05:42:03.093754Z",
     "shell.execute_reply": "2022-07-19T05:42:03.092591Z"
    },
    "papermill": {
     "duration": 0.027512,
     "end_time": "2022-07-19T05:42:03.096251",
     "exception": false,
     "start_time": "2022-07-19T05:42:03.068739",
     "status": "completed"
    },
    "tags": []
   },
   "outputs": [
    {
     "name": "stdout",
     "output_type": "stream",
     "text": [
      "<class 'pandas.core.frame.DataFrame'>\n",
      "RangeIndex: 25 entries, 0 to 24\n",
      "Data columns (total 2 columns):\n",
      " #   Column  Non-Null Count  Dtype  \n",
      "---  ------  --------------  -----  \n",
      " 0   Hours   25 non-null     float64\n",
      " 1   Scores  25 non-null     int64  \n",
      "dtypes: float64(1), int64(1)\n",
      "memory usage: 528.0 bytes\n"
     ]
    }
   ],
   "source": [
    "df.info()"
   ]
  },
  {
   "cell_type": "markdown",
   "id": "bb7107ba",
   "metadata": {
    "papermill": {
     "duration": 0.00622,
     "end_time": "2022-07-19T05:42:03.109149",
     "exception": false,
     "start_time": "2022-07-19T05:42:03.102929",
     "status": "completed"
    },
    "tags": []
   },
   "source": [
    "**Positive Linear Regression**"
   ]
  },
  {
   "cell_type": "code",
   "execution_count": 6,
   "id": "8a3884a6",
   "metadata": {
    "execution": {
     "iopub.execute_input": "2022-07-19T05:42:03.124142Z",
     "iopub.status.busy": "2022-07-19T05:42:03.123379Z",
     "iopub.status.idle": "2022-07-19T05:42:03.357950Z",
     "shell.execute_reply": "2022-07-19T05:42:03.356455Z"
    },
    "papermill": {
     "duration": 0.245245,
     "end_time": "2022-07-19T05:42:03.360829",
     "exception": false,
     "start_time": "2022-07-19T05:42:03.115584",
     "status": "completed"
    },
    "tags": []
   },
   "outputs": [
    {
     "data": {
      "image/png": "[encoded data removed]",
      "text/plain": [
       "<Figure size 432x288 with 1 Axes>"
      ]
     },
     "metadata": {
      "needs_background": "light"
     },
     "output_type": "display_data"
    }
   ],
   "source": [
    "Hours=df['Hours']\n",
    "Score=df['Scores']\n",
    "plt.scatter(Hours,Score,color='green',marker='x')\n",
    "plt.title('Hours vs Scores')\n",
    "plt.xlabel('Hours')\n",
    "plt.ylabel('Secured Scores')\n",
    "plt.show()\n"
   ]
  },
  {
   "cell_type": "markdown",
   "id": "b33689d8",
   "metadata": {
    "papermill": {
     "duration": 0.00682,
     "end_time": "2022-07-19T05:42:03.375148",
     "exception": false,
     "start_time": "2022-07-19T05:42:03.368328",
     "status": "completed"
    },
    "tags": []
   },
   "source": [
    "**Determine the training and testing datasets...**"
   ]
  },
  {
   "cell_type": "code",
   "execution_count": 7,
   "id": "2d83be95",
   "metadata": {
    "execution": {
     "iopub.execute_input": "2022-07-19T05:42:03.392137Z",
     "iopub.status.busy": "2022-07-19T05:42:03.391646Z",
     "iopub.status.idle": "2022-07-19T05:42:03.400742Z",
     "shell.execute_reply": "2022-07-19T05:42:03.399526Z"
    },
    "papermill": {
     "duration": 0.019753,
     "end_time": "2022-07-19T05:42:03.403006",
     "exception": false,
     "start_time": "2022-07-19T05:42:03.383253",
     "status": "completed"
    },
    "tags": []
   },
   "outputs": [],
   "source": [
    "from sklearn.model_selection import train_test_split\n",
    "x=df.iloc[:,:-1].values\n",
    "y=df.iloc[:,1].values\n",
    "x_train,x_test,y_train,y_test = train_test_split(x,y,test_size=0.2,random_state=0)"
   ]
  },
  {
   "cell_type": "markdown",
   "id": "6a0a429d",
   "metadata": {
    "papermill": {
     "duration": 0.006469,
     "end_time": "2022-07-19T05:42:03.416573",
     "exception": false,
     "start_time": "2022-07-19T05:42:03.410104",
     "status": "completed"
    },
    "tags": []
   },
   "source": [
    "**Model Selection and Training**"
   ]
  },
  {
   "cell_type": "code",
   "execution_count": 8,
   "id": "95c3226d",
   "metadata": {
    "execution": {
     "iopub.execute_input": "2022-07-19T05:42:03.432494Z",
     "iopub.status.busy": "2022-07-19T05:42:03.431525Z",
     "iopub.status.idle": "2022-07-19T05:42:03.456553Z",
     "shell.execute_reply": "2022-07-19T05:42:03.455600Z"
    },
    "papermill": {
     "duration": 0.035617,
     "end_time": "2022-07-19T05:42:03.458961",
     "exception": false,
     "start_time": "2022-07-19T05:42:03.423344",
     "status": "completed"
    },
    "tags": []
   },
   "outputs": [
    {
     "data": {
      "text/plain": [
       "LinearRegression(copy_X=True, fit_intercept=True, n_jobs=None, normalize=False)"
      ]
     },
     "execution_count": 8,
     "metadata": {},
     "output_type": "execute_result"
    }
   ],
   "source": [
    "model=linear_model.LinearRegression()\n",
    "model.fit(x_train,y_train)"
   ]
  },
  {
   "cell_type": "code",
   "execution_count": 9,
   "id": "0c4da159",
   "metadata": {
    "execution": {
     "iopub.execute_input": "2022-07-19T05:42:03.476076Z",
     "iopub.status.busy": "2022-07-19T05:42:03.474768Z",
     "iopub.status.idle": "2022-07-19T05:42:03.481529Z",
     "shell.execute_reply": "2022-07-19T05:42:03.480729Z"
    },
    "papermill": {
     "duration": 0.017448,
     "end_time": "2022-07-19T05:42:03.483529",
     "exception": false,
     "start_time": "2022-07-19T05:42:03.466081",
     "status": "completed"
    },
    "tags": []
   },
   "outputs": [
    {
     "data": {
      "text/plain": [
       "(9.910656480642237, 2.018160041434683)"
      ]
     },
     "execution_count": 9,
     "metadata": {},
     "output_type": "execute_result"
    }
   ],
   "source": [
    "model.coef_[0],model.intercept_"
   ]
  },
  {
   "cell_type": "markdown",
   "id": "72e34140",
   "metadata": {
    "papermill": {
     "duration": 0.006852,
     "end_time": "2022-07-19T05:42:03.497683",
     "exception": false,
     "start_time": "2022-07-19T05:42:03.490831",
     "status": "completed"
    },
    "tags": []
   },
   "source": [
    "**Linear Regression Line**"
   ]
  },
  {
   "cell_type": "code",
   "execution_count": 10,
   "id": "d1f02a3a",
   "metadata": {
    "execution": {
     "iopub.execute_input": "2022-07-19T05:42:03.516010Z",
     "iopub.status.busy": "2022-07-19T05:42:03.515142Z",
     "iopub.status.idle": "2022-07-19T05:42:03.725436Z",
     "shell.execute_reply": "2022-07-19T05:42:03.724187Z"
    },
    "papermill": {
     "duration": 0.222168,
     "end_time": "2022-07-19T05:42:03.728063",
     "exception": false,
     "start_time": "2022-07-19T05:42:03.505895",
     "status": "completed"
    },
    "tags": []
   },
   "outputs": [
    {
     "data": {
      "image/png": "[encoded data removed]",
      "text/plain": [
       "<Figure size 432x288 with 1 Axes>"
      ]
     },
     "metadata": {
      "needs_background": "light"
     },
     "output_type": "display_data"
    }
   ],
   "source": [
    "line=model.coef_[0]*x + model.intercept_\n",
    "plt.scatter(x,y,marker='x',color='green',label='True')\n",
    "plt.plot(x,line,color='red',label='Predicted')\n",
    "plt.xlabel('Hours')\n",
    "plt.ylabel('Scores')\n",
    "plt.title('Scores Vs Hours')\n",
    "plt.legend()\n",
    "plt.show()"
   ]
  },
  {
   "cell_type": "markdown",
   "id": "ecc4d8e4",
   "metadata": {
    "papermill": {
     "duration": 0.007309,
     "end_time": "2022-07-19T05:42:03.743122",
     "exception": false,
     "start_time": "2022-07-19T05:42:03.735813",
     "status": "completed"
    },
    "tags": []
   },
   "source": [
    "**Determine R Square Score**"
   ]
  },
  {
   "cell_type": "code",
   "execution_count": 11,
   "id": "1f8d4a11",
   "metadata": {
    "execution": {
     "iopub.execute_input": "2022-07-19T05:42:03.762014Z",
     "iopub.status.busy": "2022-07-19T05:42:03.761537Z",
     "iopub.status.idle": "2022-07-19T05:42:03.771769Z",
     "shell.execute_reply": "2022-07-19T05:42:03.770427Z"
    },
    "papermill": {
     "duration": 0.023586,
     "end_time": "2022-07-19T05:42:03.774289",
     "exception": false,
     "start_time": "2022-07-19T05:42:03.750703",
     "status": "completed"
    },
    "tags": []
   },
   "outputs": [
    {
     "name": "stdout",
     "output_type": "stream",
     "text": [
      "R2 score :0.9455\n",
      "RMSE :4.6474\n",
      "MAE :4.1839\n"
     ]
    }
   ],
   "source": [
    "y_prediction=model.predict(x_test)\n",
    "\n",
    "print('R2 score :{:^.4f}'.format(r2_score(y_test,y_prediction)))\n",
    "print('RMSE :{:^.4f}'.format(mean_squared_error(y_test,y_prediction,squared=False)))\n",
    "print('MAE :{:^.4f}'.format(mean_absolute_error(y_test,y_prediction)))"
   ]
  },
  {
   "cell_type": "markdown",
   "id": "b08222be",
   "metadata": {
    "papermill": {
     "duration": 0.007285,
     "end_time": "2022-07-19T05:42:03.789383",
     "exception": false,
     "start_time": "2022-07-19T05:42:03.782098",
     "status": "completed"
    },
    "tags": []
   },
   "source": [
    "**Dataframe about Actual and Prediction**"
   ]
  },
  {
   "cell_type": "code",
   "execution_count": 12,
   "id": "78ac0f1c",
   "metadata": {
    "execution": {
     "iopub.execute_input": "2022-07-19T05:42:03.806591Z",
     "iopub.status.busy": "2022-07-19T05:42:03.806091Z",
     "iopub.status.idle": "2022-07-19T05:42:03.818853Z",
     "shell.execute_reply": "2022-07-19T05:42:03.817516Z"
    },
    "papermill": {
     "duration": 0.024218,
     "end_time": "2022-07-19T05:42:03.821137",
     "exception": false,
     "start_time": "2022-07-19T05:42:03.796919",
     "status": "completed"
    },
    "tags": []
   },
   "outputs": [
    {
     "data": {
      "text/html": [
       "<div>\n",
       "<style scoped>\n",
       "    .dataframe tbody tr th:only-of-type {\n",
       "        vertical-align: middle;\n",
       "    }\n",
       "\n",
       "    .dataframe tbody tr th {\n",
       "        vertical-align: top;\n",
       "    }\n",
       "\n",
       "    .dataframe thead th {\n",
       "        text-align: right;\n",
       "    }\n",
       "</style>\n",
       "<table border=\"1\" class=\"dataframe\">\n",
       "  <thead>\n",
       "    <tr style=\"text-align: right;\">\n",
       "      <th></th>\n",
       "      <th>Actual</th>\n",
       "      <th>Prediction</th>\n",
       "    </tr>\n",
       "  </thead>\n",
       "  <tbody>\n",
       "    <tr>\n",
       "      <th>0</th>\n",
       "      <td>20</td>\n",
       "      <td>16.884145</td>\n",
       "    </tr>\n",
       "    <tr>\n",
       "      <th>1</th>\n",
       "      <td>27</td>\n",
       "      <td>33.732261</td>\n",
       "    </tr>\n",
       "    <tr>\n",
       "      <th>2</th>\n",
       "      <td>69</td>\n",
       "      <td>75.357018</td>\n",
       "    </tr>\n",
       "    <tr>\n",
       "      <th>3</th>\n",
       "      <td>30</td>\n",
       "      <td>26.794801</td>\n",
       "    </tr>\n",
       "    <tr>\n",
       "      <th>4</th>\n",
       "      <td>62</td>\n",
       "      <td>60.491033</td>\n",
       "    </tr>\n",
       "  </tbody>\n",
       "</table>\n",
       "</div>"
      ],
      "text/plain": [
       "   Actual  Prediction\n",
       "0      20   16.884145\n",
       "1      27   33.732261\n",
       "2      69   75.357018\n",
       "3      30   26.794801\n",
       "4      62   60.491033"
      ]
     },
     "execution_count": 12,
     "metadata": {},
     "output_type": "execute_result"
    }
   ],
   "source": [
    "df2=pd.DataFrame({'Actual':y_test,'Prediction':y_prediction})\n",
    "df2"
   ]
  },
  {
   "cell_type": "markdown",
   "id": "75167229",
   "metadata": {
    "papermill": {
     "duration": 0.007198,
     "end_time": "2022-07-19T05:42:03.836056",
     "exception": false,
     "start_time": "2022-07-19T05:42:03.828858",
     "status": "completed"
    },
    "tags": []
   },
   "source": [
    "**Predict The Score If a Student Studies 9.25hours/Day**"
   ]
  },
  {
   "cell_type": "code",
   "execution_count": 13,
   "id": "69327d59",
   "metadata": {
    "execution": {
     "iopub.execute_input": "2022-07-19T05:42:03.853384Z",
     "iopub.status.busy": "2022-07-19T05:42:03.852917Z",
     "iopub.status.idle": "2022-07-19T05:42:03.859378Z",
     "shell.execute_reply": "2022-07-19T05:42:03.858451Z"
    },
    "papermill": {
     "duration": 0.017449,
     "end_time": "2022-07-19T05:42:03.861436",
     "exception": false,
     "start_time": "2022-07-19T05:42:03.843987",
     "status": "completed"
    },
    "tags": []
   },
   "outputs": [
    {
     "name": "stdout",
     "output_type": "stream",
     "text": [
      "No Of Hours:: 9.25\n",
      "Predicted Score:: 93.69173248737538\n"
     ]
    }
   ],
   "source": [
    "hours=9.25\n",
    "print('No Of Hours::',hours)\n",
    "print('Predicted Score::',model.predict([[hours]])[0])"
   ]
  },
  {
   "cell_type": "markdown",
   "id": "678e8d31",
   "metadata": {
    "papermill": {
     "duration": 0.007453,
     "end_time": "2022-07-19T05:42:03.876924",
     "exception": false,
     "start_time": "2022-07-19T05:42:03.869471",
     "status": "completed"
    },
    "tags": []
   },
   "source": [
    "Answer:-If a student studies 9.25 hours/day then his/her predicted score is 93.69.."
   ]
  },
  {
   "cell_type": "markdown",
   "id": "a472ff7d",
   "metadata": {
    "papermill": {
     "duration": 0.00732,
     "end_time": "2022-07-19T05:42:03.892160",
     "exception": false,
     "start_time": "2022-07-19T05:42:03.884840",
     "status": "completed"
    },
    "tags": []
   },
   "source": [
    "****"
   ]
  }
 ],
 "metadata": {
  "kernelspec": {
   "display_name": "Python 3",
   "language": "python",
   "name": "python3"
  },
  "language_info": {
   "codemirror_mode": {
    "name": "ipython",
    "version": 3
   },
   "file_extension": ".py",
   "mimetype": "text/x-python",
   "name": "python",
   "nbconvert_exporter": "python",
   "pygments_lexer": "ipython3",
   "version": "3.8.8"
  },
  "papermill": {
   "default_parameters": {},
   "duration": 14.616046,
   "end_time": "2022-07-19T05:42:06.994919",
   "environment_variables": {},
   "exception": null,
   "input_path": "__notebook__.ipynb",
   "output_path": "__notebook__.ipynb",
   "parameters": {},
   "start_time": "2022-07-19T05:41:52.378873",
   "version": "2.3.4"
  }
 },
 "nbformat": 4,
 "nbformat_minor": 5
}
